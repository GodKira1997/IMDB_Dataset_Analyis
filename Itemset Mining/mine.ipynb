{
 "cells": [
  {
   "cell_type": "markdown",
   "metadata": {},
   "source": [
    "### Import Libraries"
   ]
  },
  {
   "cell_type": "code",
   "execution_count": 64,
   "metadata": {},
   "outputs": [],
   "source": [
    "import psycopg2\n",
    "import psycopg2.extras\n",
    "import configparser as configparser\n",
    "import pandas as pd\n",
    "import numpy as np\n",
    "from string import Template"
   ]
  },
  {
   "cell_type": "markdown",
   "metadata": {},
   "source": [
    "## Parsing INI File"
   ]
  },
  {
   "cell_type": "markdown",
   "metadata": {},
   "source": [
    "### Funtion: To parse INI file"
   ]
  },
  {
   "cell_type": "code",
   "execution_count": 65,
   "metadata": {},
   "outputs": [],
   "source": [
    "def parse_ini(section: str) -> dict:\n",
    "    \"\"\"\n",
    "    This function parses ini file for configuration details\n",
    "    :param section: section to read from ini\n",
    "    :return: Dictionary of config details\n",
    "    \"\"\"\n",
    "    config = dict()\n",
    "    parser = configparser.ConfigParser()\n",
    "    parser.read(\"imdb_database.ini\")\n",
    "    if parser.has_section(section):\n",
    "        config_items = parser.items(section)\n",
    "        for item in config_items:\n",
    "            config[item[0]] = item[1]\n",
    "    return config"
   ]
  },
  {
   "cell_type": "code",
   "execution_count": 66,
   "metadata": {},
   "outputs": [
    {
     "data": {
      "text/plain": [
       "{'host': 'localhost',\n",
       " 'database': 'imdb',\n",
       " 'user': 'postgres',\n",
       " 'password': '1997',\n",
       " 'port': '5432'}"
      ]
     },
     "execution_count": 66,
     "metadata": {},
     "output_type": "execute_result"
    }
   ],
   "source": [
    "sql_config = parse_ini(\"postgresql\")\n",
    "sql_config"
   ]
  },
  {
   "attachments": {},
   "cell_type": "markdown",
   "metadata": {},
   "source": [
    "### Function: To connect to IMDB database and run query to fetch from IMDB SQL Database"
   ]
  },
  {
   "cell_type": "code",
   "execution_count": 67,
   "metadata": {},
   "outputs": [],
   "source": [
    "def fetch_sql(query: str):\n",
    "    with psycopg2.connect(**sql_config) as conn:\n",
    "        conn.autocommit = True\n",
    "        cursor = conn.cursor()\n",
    "        try:\n",
    "            cursor.execute(query)\n",
    "            results = cursor.fetchall()\n",
    "            return results\n",
    "        except (Exception, psycopg2.DatabaseError) as error:\n",
    "            print(\"SQL Exception:\" + str(error))\n",
    "        finally:\n",
    "            cursor.close()"
   ]
  },
  {
   "attachments": {},
   "cell_type": "markdown",
   "metadata": {},
   "source": [
    "## Itemset Mining on IMDB for Actors who have appeared together"
   ]
  },
  {
   "attachments": {},
   "cell_type": "markdown",
   "metadata": {},
   "source": [
    "### Template query for Itemset Mining on IMDB DB"
   ]
  },
  {
   "cell_type": "code",
   "execution_count": 68,
   "metadata": {},
   "outputs": [],
   "source": [
    "query_0 = Template(\"DROP TABLE IF EXISTS L${level};\")\n",
    "query_1 = Template((\"\\nCREATE TABLE L${level} AS\"\n",
    "           \"\\nSELECT\"))\n",
    "query_2 = Template(\" p${Lk_current}.actor AS actor${Lk_current},\")\n",
    "query_3 = (\", COUNT(p1.title) AS count\\n\"\n",
    "           \"FROM Popular_Movie_Actors p1\")\n",
    "query_4 = Template((\"\\nINNER JOIN Popular_Movie_Actors p${Lk_current}\"\n",
    "           \"\\nON p${Lk_previous}.title = p${Lk_current}.title\"\n",
    "           \"\\nAND p${Lk_previous}.actor < p${Lk_current}.actor\"))\n",
    "query_5 = \"\\nGROUP BY\"\n",
    "query_6 = Template(\" p${Lk_current}.actor,\")\n",
    "query_7 = Template((\"\\nHAVING COUNT(p1.title) >= ${minimum_support};\"\n",
    "           \"\\nSELECT COUNT(*) FROM L${level};\"))\n",
    "query_parts = [query_0, query_1, query_2, query_3, query_4, query_5, query_6, query_7]"
   ]
  },
  {
   "attachments": {},
   "cell_type": "markdown",
   "metadata": {},
   "source": [
    "### Algorithm to mine actor frequent itemsets from IMDB database"
   ]
  },
  {
   "cell_type": "code",
   "execution_count": 69,
   "metadata": {},
   "outputs": [
    {
     "name": "stdout",
     "output_type": "stream",
     "text": [
      "SQL Exception:no results to fetch\n"
     ]
    },
    {
     "data": {
      "text/plain": [
       "[33443, 5591, 710, 159, 34, 5]"
      ]
     },
     "execution_count": 69,
     "metadata": {},
     "output_type": "execute_result"
    }
   ],
   "source": [
    "frequent_itemsets_count = []\n",
    "minimum_support = 5\n",
    "level = 1\n",
    "count = np.inf\n",
    "while count > 0:\n",
    "    query = \"\"\n",
    "    for index in range(len(query_parts)):\n",
    "        if index in [0, 1, 7, 8]:\n",
    "            query += str(query_parts[index].safe_substitute(level=level, minimum_support=minimum_support))\n",
    "        elif index in [2, 6]:\n",
    "            for Lk_current in range(1, level + 1):\n",
    "                query += str(query_parts[index].substitute(Lk_current=Lk_current))\n",
    "            query = query.strip(',')\n",
    "        elif index == 4:\n",
    "            if level > 1:\n",
    "                for Lk_current in range(2, level + 1):\n",
    "                    query += str(query_parts[index].substitute(Lk_current=Lk_current, Lk_previous=(Lk_current - 1)))\n",
    "        else:\n",
    "            query += str(query_parts[index])\n",
    "    \n",
    "    count = fetch_sql(query)[0][0]\n",
    "    if count == 0:\n",
    "        query = str(query_parts[0].substitute(level=level))\n",
    "        fetch_sql(query)\n",
    "        break\n",
    "    \n",
    "    frequent_itemsets_count.append(count)\n",
    "    level += 1\n",
    "\n",
    "frequent_itemsets_count"
   ]
  },
  {
   "attachments": {},
   "cell_type": "markdown",
   "metadata": {},
   "source": [
    "#### Count of frequent itemsets at each level"
   ]
  },
  {
   "cell_type": "code",
   "execution_count": 75,
   "metadata": {},
   "outputs": [
    {
     "name": "stdout",
     "output_type": "stream",
     "text": [
      "Level 1: 33443\n",
      "Level 2: 5591\n",
      "Level 3: 710\n",
      "Level 4: 159\n",
      "Level 5: 34\n",
      "Level 6: 5\n"
     ]
    }
   ],
   "source": [
    "for index in range(len(frequent_itemsets_count)):\n",
    "    print(\"Level \" + str(index + 1) + \": \" + str(frequent_itemsets_count[index]))"
   ]
  },
  {
   "attachments": {},
   "cell_type": "markdown",
   "metadata": {},
   "source": [
    "### Querying Last Level lattice to get results with actors' names"
   ]
  },
  {
   "cell_type": "code",
   "execution_count": 70,
   "metadata": {},
   "outputs": [],
   "source": [
    "query_0 = Template(\"SELECT\")\n",
    "query_1 = Template(\" m${current}.name AS name${current},\")\n",
    "query_2 = Template((\", count\\n\"\n",
    "           \"FROM L${level} l\"))\n",
    "query_3 = Template((\"\\nINNER JOIN member m${current}\"\n",
    "           \"\\nON l.actor${current} = m${current}.id\"))\n",
    "query_parts = [query_0, query_1, query_2, query_3]"
   ]
  },
  {
   "attachments": {},
   "cell_type": "markdown",
   "metadata": {},
   "source": [
    "#### Generated Query"
   ]
  },
  {
   "cell_type": "code",
   "execution_count": 71,
   "metadata": {},
   "outputs": [
    {
     "name": "stdout",
     "output_type": "stream",
     "text": [
      "SELECT m1.name AS name1, m2.name AS name2, m3.name AS name3, m4.name AS name4, m5.name AS name5, m6.name AS name6, count\n",
      "FROM L6 l\n",
      "INNER JOIN member m1\n",
      "ON l.actor1 = m1.id\n",
      "INNER JOIN member m2\n",
      "ON l.actor2 = m2.id\n",
      "INNER JOIN member m3\n",
      "ON l.actor3 = m3.id\n",
      "INNER JOIN member m4\n",
      "ON l.actor4 = m4.id\n",
      "INNER JOIN member m5\n",
      "ON l.actor5 = m5.id\n",
      "INNER JOIN member m6\n",
      "ON l.actor6 = m6.id\n"
     ]
    }
   ],
   "source": [
    "last_level = len(frequent_itemsets_count)\n",
    "query = \"\"\n",
    "for index in range(len(query_parts)):\n",
    "    if index in [1, 3]:\n",
    "        for Lk_current in range(1, last_level + 1):\n",
    "            query += str(query_parts[index].substitute(current=Lk_current))\n",
    "        query = query.strip(',')\n",
    "    else:\n",
    "        query += str(query_parts[index].safe_substitute(level=last_level))\n",
    "print(query)"
   ]
  },
  {
   "attachments": {},
   "cell_type": "markdown",
   "metadata": {},
   "source": [
    "#### Fetching results"
   ]
  },
  {
   "cell_type": "code",
   "execution_count": 72,
   "metadata": {},
   "outputs": [],
   "source": [
    "last_level_frequent_itemset = pd.DataFrame(fetch_sql(query))\n",
    "columns = []\n",
    "for index in range(1, last_level_frequent_itemset.shape[1]):\n",
    "    columns.append(\"actor\" + str(index))\n",
    "columns.append(\"count\")\n",
    "last_level_frequent_itemset.columns = columns"
   ]
  },
  {
   "attachments": {},
   "cell_type": "markdown",
   "metadata": {},
   "source": [
    "#### The names of the actors in each frequent itemset of last level"
   ]
  },
  {
   "cell_type": "code",
   "execution_count": 74,
   "metadata": {},
   "outputs": [
    {
     "data": {
      "text/html": [
       "<div>\n",
       "<style scoped>\n",
       "    .dataframe tbody tr th:only-of-type {\n",
       "        vertical-align: middle;\n",
       "    }\n",
       "\n",
       "    .dataframe tbody tr th {\n",
       "        vertical-align: top;\n",
       "    }\n",
       "\n",
       "    .dataframe thead th {\n",
       "        text-align: right;\n",
       "    }\n",
       "</style>\n",
       "<table border=\"1\" class=\"dataframe\">\n",
       "  <thead>\n",
       "    <tr style=\"text-align: right;\">\n",
       "      <th></th>\n",
       "      <th>actor1</th>\n",
       "      <th>actor2</th>\n",
       "      <th>actor3</th>\n",
       "      <th>actor4</th>\n",
       "      <th>actor5</th>\n",
       "      <th>actor6</th>\n",
       "      <th>count</th>\n",
       "    </tr>\n",
       "  </thead>\n",
       "  <tbody>\n",
       "    <tr>\n",
       "      <th>0</th>\n",
       "      <td>Robert Axelrod</td>\n",
       "      <td>G. Larry Butler</td>\n",
       "      <td>David Gerrold</td>\n",
       "      <td>Donald F. Glut</td>\n",
       "      <td>Marieve Herington</td>\n",
       "      <td>Kyle Rea</td>\n",
       "      <td>7</td>\n",
       "    </tr>\n",
       "    <tr>\n",
       "      <th>1</th>\n",
       "      <td>Robert Axelrod</td>\n",
       "      <td>G. Larry Butler</td>\n",
       "      <td>David Gerrold</td>\n",
       "      <td>Donald F. Glut</td>\n",
       "      <td>Marieve Herington</td>\n",
       "      <td>Bradford Hill</td>\n",
       "      <td>6</td>\n",
       "    </tr>\n",
       "    <tr>\n",
       "      <th>2</th>\n",
       "      <td>Robert Axelrod</td>\n",
       "      <td>G. Larry Butler</td>\n",
       "      <td>David Gerrold</td>\n",
       "      <td>Donald F. Glut</td>\n",
       "      <td>Marieve Herington</td>\n",
       "      <td>Jason Barker</td>\n",
       "      <td>6</td>\n",
       "    </tr>\n",
       "    <tr>\n",
       "      <th>3</th>\n",
       "      <td>G. Larry Butler</td>\n",
       "      <td>David Gerrold</td>\n",
       "      <td>Donald F. Glut</td>\n",
       "      <td>Marieve Herington</td>\n",
       "      <td>Bradford Hill</td>\n",
       "      <td>Jason Barker</td>\n",
       "      <td>9</td>\n",
       "    </tr>\n",
       "    <tr>\n",
       "      <th>4</th>\n",
       "      <td>Vikram Barn</td>\n",
       "      <td>Simon Minter</td>\n",
       "      <td>Josh Bradley</td>\n",
       "      <td>Ethan Payne</td>\n",
       "      <td>Tobi Brown</td>\n",
       "      <td>Harry Lewis</td>\n",
       "      <td>5</td>\n",
       "    </tr>\n",
       "  </tbody>\n",
       "</table>\n",
       "</div>"
      ],
      "text/plain": [
       "            actor1           actor2          actor3             actor4  \\\n",
       "0   Robert Axelrod  G. Larry Butler   David Gerrold     Donald F. Glut   \n",
       "1   Robert Axelrod  G. Larry Butler   David Gerrold     Donald F. Glut   \n",
       "2   Robert Axelrod  G. Larry Butler   David Gerrold     Donald F. Glut   \n",
       "3  G. Larry Butler    David Gerrold  Donald F. Glut  Marieve Herington   \n",
       "4      Vikram Barn     Simon Minter    Josh Bradley        Ethan Payne   \n",
       "\n",
       "              actor5         actor6  count  \n",
       "0  Marieve Herington       Kyle Rea      7  \n",
       "1  Marieve Herington  Bradford Hill      6  \n",
       "2  Marieve Herington   Jason Barker      6  \n",
       "3      Bradford Hill   Jason Barker      9  \n",
       "4         Tobi Brown    Harry Lewis      5  "
      ]
     },
     "execution_count": 74,
     "metadata": {},
     "output_type": "execute_result"
    }
   ],
   "source": [
    "last_level_frequent_itemset"
   ]
  }
 ],
 "metadata": {
  "kernelspec": {
   "display_name": "Python 3 (Spyder)",
   "language": "python3",
   "name": "python3"
  },
  "language_info": {
   "codemirror_mode": {
    "name": "ipython",
    "version": 3
   },
   "file_extension": ".py",
   "mimetype": "text/x-python",
   "name": "python",
   "nbconvert_exporter": "python",
   "pygments_lexer": "ipython3",
   "version": "3.10.6"
  }
 },
 "nbformat": 4,
 "nbformat_minor": 4
}
